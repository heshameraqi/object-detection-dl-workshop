{
  "nbformat": 4,
  "nbformat_minor": 0,
  "metadata": {
    "colab": {
      "name": "R-CNN & Fast R-CNN.ipynb",
      "version": "0.3.2",
      "provenance": [],
      "include_colab_link": true
    },
    "kernelspec": {
      "name": "python3",
      "display_name": "Python 3"
    }
  },
  "cells": [
    {
      "cell_type": "markdown",
      "metadata": {
        "id": "view-in-github",
        "colab_type": "text"
      },
      "source": [
        "<a href=\"https://colab.research.google.com/github/heshameraqi/object-detection-dl-workshop/blob/master/R_CNN_%26_Fast_R_CNN.ipynb\" target=\"_parent\"><img src=\"https://colab.research.google.com/assets/colab-badge.svg\" alt=\"Open In Colab\"/></a>"
      ]
    },
    {
      "metadata": {
        "id": "jVpbMWV5AbCU",
        "colab_type": "text"
      },
      "cell_type": "markdown",
      "source": [
        "**Clone the Tensorflow models repository**"
      ]
    },
    {
      "metadata": {
        "id": "-xl8wIjEAZ2s",
        "colab_type": "code",
        "colab": {}
      },
      "cell_type": "code",
      "source": [
        "!git clone https://github.com/tensorflow/models.git"
      ],
      "execution_count": 0,
      "outputs": []
    },
    {
      "metadata": {
        "id": "tgD-HTFr7xen",
        "colab_type": "text"
      },
      "cell_type": "markdown",
      "source": [
        "**Imports**"
      ]
    },
    {
      "metadata": {
        "id": "k0aQ9-_r7s4l",
        "colab_type": "code",
        "colab": {
          "base_uri": "https://localhost:8080/",
          "height": 346
        },
        "outputId": "2a136ec9-2ea2-4ff4-c641-d2cfcff9dda0"
      },
      "cell_type": "code",
      "source": [
        "import tensorflow as tf\n",
        "from models.research.slim.nets.inception_resnet_v2 import inception_resnet_v2 as incep_v2\n",
        "\n",
        "import os\n",
        "import cv2\n",
        "import numpy as np\n",
        "import matplotlib.pyplot as plt\n",
        "from tqdm import tqdm_notebook as tqdm # Or from tqdm import tqdm if not jupyter notebook\n",
        "import selectivesearch\n",
        "import matplotlib.patches as mpatches"
      ],
      "execution_count": 10,
      "outputs": [
        {
          "output_type": "error",
          "ename": "ModuleNotFoundError",
          "evalue": "ignored",
          "traceback": [
            "\u001b[0;31m---------------------------------------------------------------------------\u001b[0m",
            "\u001b[0;31mModuleNotFoundError\u001b[0m                       Traceback (most recent call last)",
            "\u001b[0;32m<ipython-input-10-44543f950374>\u001b[0m in \u001b[0;36m<module>\u001b[0;34m()\u001b[0m\n\u001b[1;32m      7\u001b[0m \u001b[0;32mimport\u001b[0m \u001b[0mmatplotlib\u001b[0m\u001b[0;34m.\u001b[0m\u001b[0mpyplot\u001b[0m \u001b[0;32mas\u001b[0m \u001b[0mplt\u001b[0m\u001b[0;34m\u001b[0m\u001b[0;34m\u001b[0m\u001b[0m\n\u001b[1;32m      8\u001b[0m \u001b[0;32mfrom\u001b[0m \u001b[0mtqdm\u001b[0m \u001b[0;32mimport\u001b[0m \u001b[0mtqdm_notebook\u001b[0m \u001b[0;32mas\u001b[0m \u001b[0mtqdm\u001b[0m \u001b[0;31m# Or from tqdm import tqdm if not jupyter notebook\u001b[0m\u001b[0;34m\u001b[0m\u001b[0;34m\u001b[0m\u001b[0m\n\u001b[0;32m----> 9\u001b[0;31m \u001b[0;32mimport\u001b[0m \u001b[0mselectivesearch\u001b[0m\u001b[0;34m\u001b[0m\u001b[0;34m\u001b[0m\u001b[0m\n\u001b[0m\u001b[1;32m     10\u001b[0m \u001b[0;32mimport\u001b[0m \u001b[0mmatplotlib\u001b[0m\u001b[0;34m.\u001b[0m\u001b[0mpatches\u001b[0m \u001b[0;32mas\u001b[0m \u001b[0mmpatches\u001b[0m\u001b[0;34m\u001b[0m\u001b[0;34m\u001b[0m\u001b[0m\n",
            "\u001b[0;31mModuleNotFoundError\u001b[0m: No module named 'selectivesearch'",
            "",
            "\u001b[0;31m---------------------------------------------------------------------------\u001b[0;32m\nNOTE: If your import is failing due to a missing package, you can\nmanually install dependencies using either !pip or !apt.\n\nTo view examples of installing some common dependencies, click the\n\"Open Examples\" button below.\n\u001b[0;31m---------------------------------------------------------------------------\u001b[0m\n"
          ]
        }
      ]
    },
    {
      "metadata": {
        "id": "wDVXH3CC71bX",
        "colab_type": "text"
      },
      "cell_type": "markdown",
      "source": [
        "**Configurations**"
      ]
    },
    {
      "metadata": {
        "id": "Hm_lv9FL73DP",
        "colab_type": "code",
        "colab": {}
      },
      "cell_type": "code",
      "source": [
        "image_file_name = 'Cat3.jpg' # 'Cat3.jpg' 'Dogs.png' 'NYC.jpg' 'Ring_road2.jpg'\n",
        "n_rows = 299\n",
        "n_cols = 299\n",
        "classes_file_name = 'imagenet1000.txt'"
      ],
      "execution_count": 0,
      "outputs": []
    },
    {
      "metadata": {
        "id": "trXHXRW18dpi",
        "colab_type": "text"
      },
      "cell_type": "markdown",
      "source": [
        "**Declarations**"
      ]
    },
    {
      "metadata": {
        "id": "cBNDco8l8gXK",
        "colab_type": "code",
        "colab": {}
      },
      "cell_type": "code",
      "source": [
        "def define_model(model, is_training):\n",
        "    model.Image = tf.placeholder(tf.float32, shape =[None, n_rows, n_cols, 3])\n",
        "    with incep_v2.slim.arg_scope(incep_v2.inception_resnet_v2_arg_scope()):\n",
        "        model.logits, model.end_points = incep_v2.inception_resnet_v2(model.Image, is_training = False)\n",
        "\n",
        "sess=tf.Session()\n",
        "class Model_Class:\n",
        "    def __init__(self, is_training):\n",
        "        define_model(self, is_training=is_training)"
      ],
      "execution_count": 0,
      "outputs": []
    },
    {
      "metadata": {
        "id": "HmP9OOM88igS",
        "colab_type": "text"
      },
      "cell_type": "markdown",
      "source": [
        "**Create Model**"
      ]
    },
    {
      "metadata": {
        "id": "8rFDzvjc8kLT",
        "colab_type": "code",
        "colab": {}
      },
      "cell_type": "code",
      "source": [
        "os.environ[\"CUDA_VISIBLE_DEVICES\"] = \"0\"\n",
        "with tf.device('/cpu:0'):\n",
        "    model = Model_Class(False)"
      ],
      "execution_count": 0,
      "outputs": []
    },
    {
      "metadata": {
        "id": "GuC2BsBG8lvD",
        "colab_type": "text"
      },
      "cell_type": "markdown",
      "source": [
        "**Read Image**"
      ]
    },
    {
      "metadata": {
        "id": "S9ny2VKS8nAa",
        "colab_type": "code",
        "colab": {}
      },
      "cell_type": "code",
      "source": [
        "img = cv2.imread(image_file_name, cv2.IMREAD_COLOR)\n",
        "img = img[:,:,[2,1,0]] # Make it RGB\n",
        "img = cv2.resize(img, (n_rows, n_cols))\n",
        "img_rgb = img.copy()\n",
        "img = 2*(img/255.0)-1.0"
      ],
      "execution_count": 0,
      "outputs": []
    },
    {
      "metadata": {
        "id": "XMSJ_7A-8o5R",
        "colab_type": "text"
      },
      "cell_type": "markdown",
      "source": [
        "**Load the weights and Run the classifier**"
      ]
    },
    {
      "metadata": {
        "id": "CaJ2d2tl8qpi",
        "colab_type": "code",
        "colab": {}
      },
      "cell_type": "code",
      "source": [
        "model.saver = tf.train.Saver()\n",
        "model.saver.restore(sess, os.getcwd()+\"\\inception_resnet_v2_2016_08_30.ckpt\")\n",
        "\n",
        "classification = sess.run(model.end_points['Predictions'], feed_dict= {model.Image:[img]})"
      ],
      "execution_count": 0,
      "outputs": []
    },
    {
      "metadata": {
        "id": "TuTH_dGw8sKi",
        "colab_type": "text"
      },
      "cell_type": "markdown",
      "source": [
        "**Print Classification Result**"
      ]
    },
    {
      "metadata": {
        "id": "rWvrgxD-8tbR",
        "colab_type": "code",
        "colab": {}
      },
      "cell_type": "code",
      "source": [
        "calss_id = np.argmax(classification)+1 # +1 because that the network has the first class as \"I don't know\" and it's not included in the imagenet dict\n",
        "classes_dict = eval(open(classes_file_name).read())\n",
        "print('Whole image class: ' + classes_dict[calss_id])\n",
        "confidences = []\n",
        "winner_classes_idx = []"
      ],
      "execution_count": 0,
      "outputs": []
    },
    {
      "metadata": {
        "id": "isJaNMR38uhB",
        "colab_type": "text"
      },
      "cell_type": "markdown",
      "source": [
        "**Run R-CNN object detector**"
      ]
    },
    {
      "metadata": {
        "id": "bA62zdto8wek",
        "colab_type": "code",
        "colab": {}
      },
      "cell_type": "code",
      "source": [
        "detector_window_min_size = 100\n",
        "detector_window_max_size = 222\n",
        "detector_window_size_step = 20\n",
        "detector_window_slide_step = 100\n",
        "\n",
        "for s_h in tqdm(range(detector_window_min_size, detector_window_max_size, detector_window_size_step)):\n",
        "    for s_w in tqdm(range(detector_window_min_size, detector_window_max_size, detector_window_size_step)):\n",
        "        for h in range(0, len(img[0]), detector_window_slide_step):\n",
        "            for w in range(0, len(img[1]), detector_window_slide_step):\n",
        "                \n",
        "                #print([w,h,s_w,s_h])\n",
        "                #[w,h,s_w,s_h] = [100,100,150,200]\n",
        "\n",
        "                height_to = np.min([h+s_h, n_rows])\n",
        "                width_to = np.min([w+s_w, n_cols])\n",
        "                cropped_img = cv2.resize(img[h:height_to,:][:,w:width_to], (n_rows, n_cols))\n",
        "\n",
        "                classification = sess.run(model.end_points['Predictions'], feed_dict= {model.Image:[cropped_img]})\n",
        "\n",
        "                confidences.append(np.max(classification))\n",
        "                location_size.append([h,w,height_to,width_to])\n",
        "                winner_classes_idx.append(np.argmax(classification)+1) # +1 because that the network has the first class as \"I don't know\" and it's not included in the imagenet dict"
      ],
      "execution_count": 0,
      "outputs": []
    },
    {
      "metadata": {
        "id": "H13N-Dn-8xyq",
        "colab_type": "text"
      },
      "cell_type": "markdown",
      "source": [
        "**Run Fast R-CNN object detector**"
      ]
    },
    {
      "metadata": {
        "id": "Msrc1Oal8yvp",
        "colab_type": "code",
        "colab": {}
      },
      "cell_type": "code",
      "source": [
        "img_lbl, regions = selectivesearch.selective_search(img_rgb, scale=500, sigma=0.4, min_size=10)\n",
        "candidates = set()\n",
        "for r in regions:\n",
        "    if r['rect'] in candidates: # excluding same rectangle (with different segments)\n",
        "        continue\n",
        "    \n",
        "    if r['size'] < 8*8: # excluding regions smaller than X pixels\n",
        "        continue\n",
        "\n",
        "    ''''x, y, w, h = r['rect'] # excluding regions with extreme aspect ratios\n",
        "    if h==0 or w==0 or w / h > 3 or h / w > 3:\n",
        "        continue'''\n",
        "    candidates.add(r['rect'])\n",
        "candidates = list(candidates)\n",
        "\n",
        "fig, ax = plt.subplots(ncols=1, nrows=1, figsize=(6, 6))\n",
        "ax.imshow(img_rgb)\n",
        "for x, y, w, h in candidates:\n",
        "    rect = mpatches.Rectangle((x, y), w, h, fill=False, edgecolor='red', linewidth=1)\n",
        "    ax.add_patch(rect)\n",
        "plt.title('Selective Search Result has ' + str(len(candidates)) + ' boxes, Image Classificatio is ' + classes_dict[calss_id])\n",
        "plt.show()\n",
        "\n",
        "for x, y, w, h in tqdm(candidates): # Candidates: bottom, left, width, height\n",
        "    cropped_img = cv2.resize(img[y:y+h, x:x+w], (n_rows, n_cols))\n",
        "    classification = sess.run(model.end_points['Predictions'], feed_dict= {model.Image:[cropped_img]})\n",
        "    confidences.append(np.max(classification))\n",
        "    winner_classes_idx.append(np.argmax(classification)+1) # +1 because that the network has the first class as \"I don't know\" and it's not included in the imagenet dict"
      ],
      "execution_count": 0,
      "outputs": []
    },
    {
      "metadata": {
        "id": "oc_4hbJM-W9e",
        "colab_type": "text"
      },
      "cell_type": "markdown",
      "source": [
        "**Visualize the object detector results**"
      ]
    },
    {
      "metadata": {
        "id": "o2QOjC1d-YH2",
        "colab_type": "code",
        "colab": {}
      },
      "cell_type": "code",
      "source": [
        "winnder_box_id = np.argmax(confidences)\n",
        "winning_class = classes_dict[winner_classes_idx[winnder_box_id]]\n",
        "print('Winner object class: ' + winning_class)\n",
        "\n",
        "fig, ax = plt.subplots(nrows=1, ncols=1)\n",
        "img_scaled = (img+1)/2.\n",
        "img_scaled = img_scaled.copy() # Bug in Python OpenCV wrapper\n",
        "plt.imshow(img_scaled)\n",
        "\n",
        "x, y, w, h = candidates[winnder_box_id]\n",
        "rect = mpatches.Rectangle((x, y), w, h, fill=False, edgecolor='red', linewidth=1)\n",
        "ax.add_patch(rect)\n",
        "\n",
        "plt.title('Best Object is ' + winning_class)\n",
        "plt.show()"
      ],
      "execution_count": 0,
      "outputs": []
    }
  ]
}