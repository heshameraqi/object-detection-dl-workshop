{
  "nbformat": 4,
  "nbformat_minor": 0,
  "metadata": {
    "colab": {
      "name": "Object Detection with Deep Learning.ipynb",
      "version": "0.3.2",
      "provenance": [],
      "collapsed_sections": [],
      "include_colab_link": true
    },
    "kernelspec": {
      "name": "python3",
      "display_name": "Python 3"
    },
    "accelerator": "GPU"
  },
  "cells": [
    {
      "cell_type": "markdown",
      "metadata": {
        "id": "view-in-github",
        "colab_type": "text"
      },
      "source": [
        "<a href=\"https://colab.research.google.com/github/heshameraqi/object-detection-dl-workshop/blob/master/Object_Detection_with_Deep_Learning.ipynb\" target=\"_parent\"><img src=\"https://colab.research.google.com/assets/colab-badge.svg\" alt=\"Open In Colab\"/></a>"
      ]
    },
    {
      "metadata": {
        "id": "3DXht2ik5USk",
        "colab_type": "text"
      },
      "cell_type": "markdown",
      "source": [
        "**Clone the workshop from Github & Install PyTorch-YOLOv3 Python requirements**\n",
        "\n"
      ]
    },
    {
      "metadata": {
        "id": "0FrvX6EGtdSR",
        "colab_type": "code",
        "colab": {}
      },
      "cell_type": "code",
      "source": [
        "!git clone https://github.com/heshameraqi/object-detection-dl-workshop.git\n",
        "%cd object-detection-dl-workshop/PyTorch-YOLOv3\n",
        "!pip3 install -r requirements.txt"
      ],
      "execution_count": 0,
      "outputs": []
    },
    {
      "metadata": {
        "id": "CfON_aum5gfd",
        "colab_type": "text"
      },
      "cell_type": "markdown",
      "source": [
        "**Download YoloV3 weights**"
      ]
    },
    {
      "metadata": {
        "id": "XcyceFZv459q",
        "colab_type": "code",
        "colab": {}
      },
      "cell_type": "code",
      "source": [
        "%cd weights/\n",
        "!bash download_yolov3_weights.sh\n",
        "%cd .."
      ],
      "execution_count": 0,
      "outputs": []
    },
    {
      "metadata": {
        "id": "16umHXqC5lCJ",
        "colab_type": "text"
      },
      "cell_type": "markdown",
      "source": [
        "**Download MS-COCO dataset (just the metadata, because we won't re-train)**"
      ]
    },
    {
      "metadata": {
        "id": "e9LZNsPI5MXT",
        "colab_type": "code",
        "colab": {}
      },
      "cell_type": "code",
      "source": [
        "%cd ../data/\n",
        "!bash get_coco_dataset.sh\n",
        "%cd .."
      ],
      "execution_count": 0,
      "outputs": []
    },
    {
      "metadata": {
        "id": "G0hAlbxW5pxN",
        "colab_type": "text"
      },
      "cell_type": "markdown",
      "source": [
        "**Test the detector on sample images**"
      ]
    },
    {
      "metadata": {
        "id": "L04HMqPx5Pbe",
        "colab_type": "code",
        "colab": {
          "base_uri": "https://localhost:8080/",
          "height": 154
        },
        "outputId": "b1e2f5fd-b45e-4f9c-f786-7a6ecba8d7bb"
      },
      "cell_type": "code",
      "source": [
        "!python3 detect.py --image_folder data/samples/"
      ],
      "execution_count": 26,
      "outputs": [
        {
          "output_type": "stream",
          "text": [
            "Namespace(batch_size=1, checkpoint_model=None, class_path='data/coco.names', conf_thres=0.8, config_path='config/yolov3.cfg', image_folder='data/samples/', img_size=416, n_cpu=0, nms_thres=0.4, weights_path='weights/yolov3.weights')\n",
            "Traceback (most recent call last):\n",
            "  File \"detect.py\", line 65, in <module>\n",
            "    classes = load_classes(opt.class_path)  # Extracts class labels from file\n",
            "  File \"/content/object-detection-dl-workshop/PyTorch-YOLOv3/utils/utils.py\", line 22, in load_classes\n",
            "    fp = open(path, \"r\")\n",
            "FileNotFoundError: [Errno 2] No such file or directory: 'data/coco.names'\n"
          ],
          "name": "stdout"
        }
      ]
    }
  ]
}