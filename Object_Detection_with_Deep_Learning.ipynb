{
  "nbformat": 4,
  "nbformat_minor": 0,
  "metadata": {
    "colab": {
      "name": "Object Detection with Deep Learning.ipynb",
      "version": "0.3.2",
      "provenance": [],
      "include_colab_link": true
    },
    "kernelspec": {
      "name": "python3",
      "display_name": "Python 3"
    },
    "accelerator": "GPU"
  },
  "cells": [
    {
      "cell_type": "markdown",
      "metadata": {
        "id": "view-in-github",
        "colab_type": "text"
      },
      "source": [
        "<a href=\"https://colab.research.google.com/github/heshameraqi/object-detection-dl-workshop/blob/master/Object_Detection_with_Deep_Learning.ipynb\" target=\"_parent\"><img src=\"https://colab.research.google.com/assets/colab-badge.svg\" alt=\"Open In Colab\"/></a>"
      ]
    },
    {
      "metadata": {
        "id": "3DXht2ik5USk",
        "colab_type": "text"
      },
      "cell_type": "markdown",
      "source": [
        "**Clone PyTorch-YOLOv3 & Install Python requirements**\n",
        "\n"
      ]
    },
    {
      "metadata": {
        "id": "0FrvX6EGtdSR",
        "colab_type": "code",
        "colab": {}
      },
      "cell_type": "code",
      "source": [
        "!git clone https://github.com/eriklindernoren/PyTorch-YOLOv3\n",
        "!cd PyTorch-YOLOv3/\n",
        "!pip3 install -r requirements.txt"
      ],
      "execution_count": 0,
      "outputs": []
    },
    {
      "metadata": {
        "id": "CfON_aum5gfd",
        "colab_type": "text"
      },
      "cell_type": "markdown",
      "source": [
        "**Download weights for Transfer Learning**"
      ]
    },
    {
      "metadata": {
        "id": "XcyceFZv459q",
        "colab_type": "code",
        "colab": {}
      },
      "cell_type": "code",
      "source": [
        "!cd weights/\n",
        "!bash download_weights.sh\n",
        "!cd .."
      ],
      "execution_count": 0,
      "outputs": []
    },
    {
      "metadata": {
        "id": "16umHXqC5lCJ",
        "colab_type": "text"
      },
      "cell_type": "markdown",
      "source": [
        "**Download MS-COCO dataset for Training if needed**"
      ]
    },
    {
      "metadata": {
        "id": "e9LZNsPI5MXT",
        "colab_type": "code",
        "colab": {}
      },
      "cell_type": "code",
      "source": [
        "# !cd data/\n",
        "# !bash get_coco_dataset.sh\n",
        "# !cd .."
      ],
      "execution_count": 0,
      "outputs": []
    },
    {
      "metadata": {
        "id": "G0hAlbxW5pxN",
        "colab_type": "text"
      },
      "cell_type": "markdown",
      "source": [
        "**Test the detector on sample images**"
      ]
    },
    {
      "metadata": {
        "id": "L04HMqPx5Pbe",
        "colab_type": "code",
        "colab": {}
      },
      "cell_type": "code",
      "source": [
        "!python3 detect.py --image_folder data/samples/"
      ],
      "execution_count": 0,
      "outputs": []
    },
    {
      "metadata": {
        "id": "nEOodT295voM",
        "colab_type": "text"
      },
      "cell_type": "markdown",
      "source": [
        "**TODO:**"
      ]
    },
    {
      "metadata": {
        "id": "uapMYJex5vYy",
        "colab_type": "code",
        "colab": {}
      },
      "cell_type": "code",
      "source": [
        ""
      ],
      "execution_count": 0,
      "outputs": []
    }
  ]
}